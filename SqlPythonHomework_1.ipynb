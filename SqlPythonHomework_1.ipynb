{
 "cells": [
  {
   "cell_type": "code",
   "execution_count": 1,
   "metadata": {},
   "outputs": [],
   "source": [
    "import  sqlite3"
   ]
  },
  {
   "cell_type": "code",
   "execution_count": 45,
   "metadata": {},
   "outputs": [],
   "source": [
    "conn = sqlite3.connect ('autoData.db')\n",
    "cursor = conn.cursor()\n",
    "\n",
    "query = '''\n",
    "CREATE TABLE automobiliai(\n",
    "    markė varchar, \n",
    "    modelis varchar, \n",
    "    spalva varchar, \n",
    "    pagaminimo_metai integer, \n",
    "    kaina integer);\n",
    "'''\n",
    "cursor.execute(query)\n",
    "conn.commit()"
   ]
  },
  {
   "cell_type": "markdown",
   "metadata": {},
   "source": [
    "Rename Column"
   ]
  },
  {
   "cell_type": "code",
   "execution_count": 42,
   "metadata": {},
   "outputs": [
    {
     "data": {
      "text/plain": [
       "'ALTER TABLE automobiliai RENAME COLUMN spalvas TO spalva;'"
      ]
     },
     "execution_count": 42,
     "metadata": {},
     "output_type": "execute_result"
    }
   ],
   "source": [
    "cursor.execute\n",
    "(\n",
    "\"ALTER TABLE automobiliai RENAME COLUMN spalvas TO spalva;\"\n",
    ")"
   ]
  },
  {
   "cell_type": "markdown",
   "metadata": {},
   "source": [
    "Rename Table"
   ]
  },
  {
   "cell_type": "code",
   "execution_count": 27,
   "metadata": {},
   "outputs": [
    {
     "data": {
      "text/plain": [
       "'ALTER TABLE salesman RENAME to automobiliai;'"
      ]
     },
     "execution_count": 27,
     "metadata": {},
     "output_type": "execute_result"
    }
   ],
   "source": [
    "cursor.execute\n",
    "(\n",
    "\"ALTER TABLE salesman RENAME to automobiliai;\"\n",
    ")"
   ]
  },
  {
   "cell_type": "code",
   "execution_count": null,
   "metadata": {},
   "outputs": [],
   "source": [
    "conn = sqlite3.connect ('autoData.db')\n",
    "cursor = conn.cursor()\n",
    "\n",
    "markė = input('Įveskite automobilio markę:')\n",
    "modelis = input('Įveskite automobilio modelį:')\n",
    "spalva = input('Įveskite spalvą:')\n",
    "pagaminimo_metai = input('Įveskite pagaminimo metus:')\n",
    "kaina = input('Įveskite automobilio kainą: ')\n",
    "cursor.execute(\"\"\"\n",
    "INSERT INTO automobiliai(markė, modelis, spalva, pagaminimo_metai, kaina)\n",
    "VALUES (?,?,?,?,?)\n",
    "\"\"\", (markė, modelis, spalva, pagaminimo_metai, kaina))\n",
    "conn.commit ()\n",
    "print ( 'Duomenys įvesti teisingai.' )\n",
    "conn.close ()\n",
    "if (conn):\n",
    "  conn.close()\n",
    "  print(\"\\nSQLite jungtis uždaryta.\")"
   ]
  },
  {
   "cell_type": "markdown",
   "metadata": {},
   "source": [
    "Dinaminės užklausos"
   ]
  },
  {
   "cell_type": "code",
   "execution_count": 9,
   "metadata": {},
   "outputs": [
    {
     "name": "stdout",
     "output_type": "stream",
     "text": [
      "[('Audi', '4000s', 'Fuscia', 2022, 65000)]\n"
     ]
    }
   ],
   "source": [
    "conn = sqlite3.connect('autoData.db')\n",
    "c = conn.cursor()\n",
    "\n",
    "paieška_markė = input('Ieskokite pagal marke: ')\n",
    "paieška_modelis = input('Ieskokite pagal automobilio modelį:')\n",
    "paieška_spalva = input('Ieskokite pagal spalvą:')\n",
    "paieška_pagaminimo_metai = input('Ieskokite pagal pagaminimo metus:')\n",
    "paieška_kaina = input('Ieskokite pagal automobilio kainą: ')\n",
    "\n",
    "with conn:\n",
    "    c.execute(\n",
    "        f\"SELECT * FROM automobiliai WHERE markė LIKE '{paieška_markė}%' AND modelis LIKE '{paieška_modelis}%' \\\n",
    "        AND spalva LIKE '{paieška_spalva}%' AND pagaminimo_metai LIKE '{paieška_pagaminimo_metai}%' \\\n",
    "        AND kaina LIKE '{paieška_kaina}%'\"\n",
    "        )\n",
    "    res = c.fetchall()\n",
    "\n",
    "if res:\n",
    "    print(res)\n",
    "else:\n",
    "    print(\"Nieko nerasta!\")\n",
    "\n"
   ]
  }
 ],
 "metadata": {
  "kernelspec": {
   "display_name": "Python 3.10.6 64-bit",
   "language": "python",
   "name": "python3"
  },
  "language_info": {
   "codemirror_mode": {
    "name": "ipython",
    "version": 3
   },
   "file_extension": ".py",
   "mimetype": "text/x-python",
   "name": "python",
   "nbconvert_exporter": "python",
   "pygments_lexer": "ipython3",
   "version": "3.10.6"
  },
  "orig_nbformat": 4,
  "vscode": {
   "interpreter": {
    "hash": "aee8b7b246df8f9039afb4144a1f6fd8d2ca17a180786b69acc140d282b71a49"
   }
  }
 },
 "nbformat": 4,
 "nbformat_minor": 2
}
